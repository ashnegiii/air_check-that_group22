{
  "nbformat": 4,
  "nbformat_minor": 0,
  "metadata": {
    "colab": {
      "provenance": [],
      "authorship_tag": "ABX9TyNmJXfgEATcEmC6ww4jaHY1",
      "include_colab_link": true
    },
    "kernelspec": {
      "name": "python3",
      "display_name": "Python 3"
    },
    "language_info": {
      "name": "python"
    }
  },
  "cells": [
    {
      "cell_type": "markdown",
      "metadata": {
        "id": "view-in-github",
        "colab_type": "text"
      },
      "source": [
        "<a href=\"https://colab.research.google.com/github/ashnegiii/air_check-that_group22/blob/main/Traditional_IR.ipynb\" target=\"_parent\"><img src=\"https://colab.research.google.com/assets/colab-badge.svg\" alt=\"Open In Colab\"/></a>"
      ]
    },
    {
      "cell_type": "code",
      "execution_count": 2,
      "metadata": {
        "colab": {
          "base_uri": "https://localhost:8080/"
        },
        "id": "UsfySQl6m6w1",
        "outputId": "aebd7ecd-7d67-46a8-bfff-e8d2826f40af"
      },
      "outputs": [
        {
          "output_type": "stream",
          "name": "stdout",
          "text": [
            "Collecting rank_bm25\n",
            "  Downloading rank_bm25-0.2.2-py3-none-any.whl.metadata (3.2 kB)\n",
            "Requirement already satisfied: numpy in /usr/local/lib/python3.11/dist-packages (from rank_bm25) (2.0.2)\n",
            "Downloading rank_bm25-0.2.2-py3-none-any.whl (8.6 kB)\n",
            "Installing collected packages: rank_bm25\n",
            "Successfully installed rank_bm25-0.2.2\n"
          ]
        }
      ],
      "source": [
        "!pip install rank_bm25\n",
        "import pandas as pd\n",
        "from rank_bm25 import BM25Okapi"
      ]
    },
    {
      "cell_type": "code",
      "source": [
        "# Load datasets\n",
        "df_collection = pd.read_pickle('subtask4b_collection_data.pkl')\n",
        "df_train = pd.read_csv('subtask4b_query_tweets_train.tsv', sep='\\t')\n",
        "df_dev = pd.read_csv('subtask4b_query_tweets_dev.tsv', sep='\\t')\n",
        "df_test = pd.read_csv('subtask4b_query_tweets_test.tsv', sep='\\t')\n",
        "df_test_gold = pd.read_csv('subtask4b_query_tweets_test_gold.tsv', sep='\\t')"
      ],
      "metadata": {
        "id": "FBX2HHPvm-_K"
      },
      "execution_count": 3,
      "outputs": []
    },
    {
      "cell_type": "code",
      "source": [
        "print(\"Collection shape:\", df_collection.shape)\n",
        "print(\"Train set shape:\", df_train.shape)\n",
        "print(\"Dev set shape:\", df_dev.shape)\n",
        "print(\"Test set shape:\", df_test.shape)\n",
        "print(\"Test gold shape:\", df_test_gold.shape)"
      ],
      "metadata": {
        "colab": {
          "base_uri": "https://localhost:8080/"
        },
        "id": "Sm1FBixIn1BK",
        "outputId": "55217df8-7fb5-4d99-c408-9669df446c3b"
      },
      "execution_count": 4,
      "outputs": [
        {
          "output_type": "stream",
          "name": "stdout",
          "text": [
            "Collection shape: (7718, 17)\n",
            "Train set shape: (12853, 3)\n",
            "Dev set shape: (1400, 3)\n",
            "Test set shape: (1446, 2)\n",
            "Test gold shape: (1446, 3)\n"
          ]
        }
      ]
    },
    {
      "cell_type": "code",
      "source": [
        "# Step 1: Preparing the documents\n",
        "docs = df_collection[['title', 'abstract']].fillna('').apply(\n",
        "    lambda row: f\"{row['title']} {row['abstract']}\", axis=1\n",
        ").tolist()\n",
        "cord_uids = df_collection['cord_uid'].tolist()"
      ],
      "metadata": {
        "id": "-KMl6Jj0n37d"
      },
      "execution_count": 5,
      "outputs": []
    },
    {
      "cell_type": "code",
      "source": [
        "# Step 2: Tokenizing and building the BM25 model\n",
        "tokenized_docs = [doc.lower().split() for doc in docs]\n",
        "bm25 = BM25Okapi(tokenized_docs)\n",
        "\n",
        "print(f\"BM25 index built on {len(tokenized_docs)} documents.\")"
      ],
      "metadata": {
        "colab": {
          "base_uri": "https://localhost:8080/"
        },
        "id": "oHvteoqroUvN",
        "outputId": "28f0beab-a0bf-442b-daa1-a062e62b5793"
      },
      "execution_count": 6,
      "outputs": [
        {
          "output_type": "stream",
          "name": "stdout",
          "text": [
            "BM25 index built on 7718 documents.\n"
          ]
        }
      ]
    },
    {
      "cell_type": "code",
      "source": [
        "def get_top5(query):\n",
        "    tokens = query.lower().split()\n",
        "    scores = bm25.get_scores(tokens)\n",
        "    top_indices = sorted(range(len(scores)), key=lambda i: -scores[i])[:5]\n",
        "    return [cord_uids[i] for i in top_indices]\n",
        "\n",
        "# Applying to the dev set\n",
        "df_dev['bm25_top5'] = df_dev['tweet_text'].apply(get_top5)"
      ],
      "metadata": {
        "id": "4URXBKgsodgs"
      },
      "execution_count": 7,
      "outputs": []
    },
    {
      "cell_type": "code",
      "source": [
        "def mrr_score(df, gold_col='cord_uid', pred_col='bm25_top5'):\n",
        "    def reciprocal_rank(preds, gold):\n",
        "        try:\n",
        "            return 1 / (preds.index(gold) + 1)\n",
        "        except ValueError:\n",
        "            return 0.0\n",
        "    return df.apply(lambda row: reciprocal_rank(row[pred_col], row[gold_col]), axis=1).mean()\n",
        "\n",
        "# Evaluate on dev set\n",
        "mrr_dev = mrr_score(df_dev)\n",
        "print(\"MRR@5 on dev set:\", round(mrr_dev, 4))"
      ],
      "metadata": {
        "colab": {
          "base_uri": "https://localhost:8080/"
        },
        "id": "L_7JcnU-oqSd",
        "outputId": "bad46a44-1e02-4a32-efc6-c21c7445f8a9"
      },
      "execution_count": 8,
      "outputs": [
        {
          "output_type": "stream",
          "name": "stdout",
          "text": [
            "MRR@5 on dev set: 0.5874\n"
          ]
        }
      ]
    },
    {
      "cell_type": "code",
      "source": [
        "# Apply BM25 to the test set\n",
        "df_test['bm25_top5'] = df_test['tweet_text'].apply(get_top5)"
      ],
      "metadata": {
        "id": "mk-wdGRTp1sQ"
      },
      "execution_count": 9,
      "outputs": []
    },
    {
      "cell_type": "code",
      "source": [
        "# Merge predictions with gold labels for evaluation\n",
        "df_test_eval = df_test.merge(df_test_gold[['post_id', 'cord_uid']], on='post_id')\n",
        "mrr_test = mrr_score(df_test_eval)\n",
        "print(\"MRR@5 on test set:\", round(mrr_test, 4))"
      ],
      "metadata": {
        "colab": {
          "base_uri": "https://localhost:8080/"
        },
        "id": "HpSNW6IOp-eL",
        "outputId": "22c2ffcf-3bcc-461b-b3a7-e65b0efb48a0"
      },
      "execution_count": 10,
      "outputs": [
        {
          "output_type": "stream",
          "name": "stdout",
          "text": [
            "MRR@5 on test set: 0.4748\n"
          ]
        }
      ]
    },
    {
      "cell_type": "code",
      "source": [
        "import string\n",
        "from nltk.corpus import stopwords\n",
        "import nltk\n",
        "nltk.download('stopwords')\n",
        "\n",
        "stop_words = set(stopwords.words('english'))\n",
        "punct_table = str.maketrans('', '', string.punctuation)\n",
        "\n",
        "def preprocess(text):\n",
        "    tokens = text.lower().translate(punct_table).split()\n",
        "    return [t for t in tokens if t not in stop_words]\n",
        "\n",
        "# Recreate tokenized corpus with preprocessing\n",
        "tokenized_cleaned_docs = [preprocess(doc) for doc in docs]"
      ],
      "metadata": {
        "colab": {
          "base_uri": "https://localhost:8080/"
        },
        "id": "hxJTW57YrZIY",
        "outputId": "bb0eb767-5d79-45c1-a9ce-26a44921f7e3"
      },
      "execution_count": 11,
      "outputs": [
        {
          "output_type": "stream",
          "name": "stderr",
          "text": [
            "[nltk_data] Downloading package stopwords to /root/nltk_data...\n",
            "[nltk_data]   Unzipping corpora/stopwords.zip.\n"
          ]
        }
      ]
    },
    {
      "cell_type": "code",
      "source": [
        "from rank_bm25 import BM25Okapi\n",
        "\n",
        "# Define combinations to test\n",
        "param_grid = [\n",
        "    (1.2, 0.75),\n",
        "    (1.5, 0.75),  # default\n",
        "    (2.0, 0.75),\n",
        "    (1.5, 0.5),\n",
        "    (1.5, 1.0),\n",
        "]\n",
        "\n",
        "# Store results\n",
        "results = []\n",
        "\n",
        "# Try each combination\n",
        "for k1, b in param_grid:\n",
        "    bm25_custom = BM25Okapi(tokenized_cleaned_docs, k1=k1, b=b)\n",
        "\n",
        "    def get_top5_custom(query):\n",
        "        tokens = preprocess(query)\n",
        "        scores = bm25_custom.get_scores(tokens)\n",
        "        top_indices = sorted(range(len(scores)), key=lambda i: -scores[i])[:5]\n",
        "        return [cord_uids[i] for i in top_indices]\n",
        "\n",
        "    df_dev['bm25_top5'] = df_dev['tweet_text'].apply(get_top5_custom)\n",
        "    score = mrr_score(df_dev)\n",
        "    results.append((k1, b, round(score, 4)))\n",
        "    print(f\"MRR@5 with k1={k1}, b={b} → {round(score, 4)}\")\n",
        "\n",
        "# Show all results\n",
        "results"
      ],
      "metadata": {
        "colab": {
          "base_uri": "https://localhost:8080/"
        },
        "id": "oQgslkPF96hj",
        "outputId": "e6873fc9-8d30-403a-ac43-ce1c4706555b"
      },
      "execution_count": 13,
      "outputs": [
        {
          "output_type": "stream",
          "name": "stdout",
          "text": [
            "MRR@5 with k1=1.2, b=0.75 → 0.6264\n",
            "MRR@5 with k1=1.5, b=0.75 → 0.6274\n",
            "MRR@5 with k1=2.0, b=0.75 → 0.6239\n",
            "MRR@5 with k1=1.5, b=0.5 → 0.625\n",
            "MRR@5 with k1=1.5, b=1.0 → 0.6215\n"
          ]
        },
        {
          "output_type": "execute_result",
          "data": {
            "text/plain": [
              "[(1.2, 0.75, np.float64(0.6264)),\n",
              " (1.5, 0.75, np.float64(0.6274)),\n",
              " (2.0, 0.75, np.float64(0.6239)),\n",
              " (1.5, 0.5, np.float64(0.625)),\n",
              " (1.5, 1.0, np.float64(0.6215))]"
            ]
          },
          "metadata": {},
          "execution_count": 13
        }
      ]
    },
    {
      "cell_type": "code",
      "source": [
        "# Rebuild best BM25 model\n",
        "final_bm25 = BM25Okapi(tokenized_cleaned_docs, k1=1.5, b=0.75)\n",
        "\n",
        "# Use best model to generate predictions on test\n",
        "def get_top5_final(query):\n",
        "    tokens = preprocess(query)\n",
        "    scores = final_bm25.get_scores(tokens)\n",
        "    top_indices = sorted(range(len(scores)), key=lambda i: -scores[i])[:5]\n",
        "    return [cord_uids[i] for i in top_indices]\n",
        "\n",
        "df_test['bm25_top5'] = df_test['tweet_text'].apply(get_top5_final)"
      ],
      "metadata": {
        "id": "6bIFuoua_5Ia"
      },
      "execution_count": 14,
      "outputs": []
    },
    {
      "cell_type": "code",
      "source": [
        "# Merge predictions with gold labels\n",
        "df_test_eval = df_test.merge(df_test_gold[['post_id', 'cord_uid']], on='post_id')\n",
        "mrr_final_test = mrr_score(df_test_eval)\n",
        "print(\"Enhanced MRR@5 on test set:\", round(mrr_final_test, 4))"
      ],
      "metadata": {
        "colab": {
          "base_uri": "https://localhost:8080/"
        },
        "id": "b3yr0bnYC4mV",
        "outputId": "7519b9dd-4404-4892-e50a-5815569514e4"
      },
      "execution_count": 15,
      "outputs": [
        {
          "output_type": "stream",
          "name": "stdout",
          "text": [
            "Enhanced MRR@5 on test set: 0.5137\n"
          ]
        }
      ]
    },
    {
      "cell_type": "code",
      "source": [
        "# Save enhanced predictions to a TSV file\n",
        "df_test[['post_id', 'bm25_top5']].rename(columns={'bm25_top5': 'preds'}).to_csv(\n",
        "    'bm25_enhanced_predictions.tsv', sep='\\t', index=False\n",
        ")"
      ],
      "metadata": {
        "id": "uiWYAmTZDtdo"
      },
      "execution_count": 16,
      "outputs": []
    },
    {
      "cell_type": "code",
      "source": [],
      "metadata": {
        "id": "HlI1-utE3XKk"
      },
      "execution_count": null,
      "outputs": []
    }
  ]
}